{
 "cells": [
  {
   "cell_type": "code",
   "execution_count": 1,
   "id": "bf2ee6a9",
   "metadata": {},
   "outputs": [],
   "source": [
    "import datasets as ds\n",
    "input_directory = \"./prepared-data-20221013\"\n",
    "output_directory = \"id_shortDesc_category_20221107\"\n",
    "data = ds.load_from_disk(input_directory)"
   ]
  },
  {
   "cell_type": "code",
   "execution_count": 2,
   "id": "eabd7133",
   "metadata": {},
   "outputs": [],
   "source": [
    "# print(data[\"train\"].features)"
   ]
  },
  {
   "cell_type": "code",
   "execution_count": 3,
   "id": "58db53b6",
   "metadata": {},
   "outputs": [],
   "source": [
    "# Filter out what we don't want to keep\n",
    "keep_columns = [\"id\", \"shortDescription\", \"category_id\"]\n",
    "columns_to_delete = set(data[\"train\"].column_names) - set(keep_columns)"
   ]
  },
  {
   "cell_type": "code",
   "execution_count": 4,
   "id": "55348670",
   "metadata": {},
   "outputs": [
    {
     "name": "stderr",
     "output_type": "stream",
     "text": [
      "Loading cached processed dataset at prepared-data-20221013/train/cache-0c8efe8367abed11.arrow\n"
     ]
    },
    {
     "name": "stdout",
     "output_type": "stream",
     "text": [
      "filtered: 40366 rows vs initially: 50243\n"
     ]
    }
   ],
   "source": [
    "# Remove rows where shortDescription is empty\n",
    "filtered = data[\"train\"].filter(lambda row: row['shortDescription'] != '')\n",
    "print(\"filtered: %d rows vs initially: %d\" % (len(filtered), len(data['train'])))"
   ]
  },
  {
   "cell_type": "code",
   "execution_count": 5,
   "id": "dffc98d3",
   "metadata": {},
   "outputs": [],
   "source": [
    "# Rename the split\n",
    "data[\"full\"] = data[\"train\"].remove_columns(list(columns_to_delete))\n",
    "del data[\"train\"]\n",
    "data.save_to_disk(output_directory)"
   ]
  }
 ],
 "metadata": {
  "kernelspec": {
   "display_name": "Python 3 (ipykernel)",
   "language": "python",
   "name": "python3"
  },
  "language_info": {
   "codemirror_mode": {
    "name": "ipython",
    "version": 3
   },
   "file_extension": ".py",
   "mimetype": "text/x-python",
   "name": "python",
   "nbconvert_exporter": "python",
   "pygments_lexer": "ipython3",
   "version": "3.10.6"
  }
 },
 "nbformat": 4,
 "nbformat_minor": 5
}
