{
 "cells": [
  {
   "cell_type": "code",
   "execution_count": 1,
   "id": "bf2ee6a9",
   "metadata": {},
   "outputs": [],
   "source": [
    "import datasets as ds\n",
    "outdir = \"./prepared-data-20221013\"\n",
    "data = ds.load_from_disk(outdir)"
   ]
  },
  {
   "cell_type": "code",
   "execution_count": 3,
   "id": "eabd7133",
   "metadata": {},
   "outputs": [
    {
     "name": "stdout",
     "output_type": "stream",
     "text": [
      "{'__typename': Value(dtype='string', id=None), 'id': Value(dtype='string', id=None), 'usItemId': Value(dtype='string', id=None), 'fitmentLabel': Value(dtype='null', id=None), 'name': Value(dtype='string', id=None), 'checkStoreAvailabilityATC': Value(dtype='bool', id=None), 'seeShippingEligibility': Value(dtype='bool', id=None), 'brand': Value(dtype='null', id=None), 'type': Value(dtype='string', id=None), 'shortDescription': Value(dtype='string', id=None), 'weightIncrement': Value(dtype='float64', id=None), 'imageInfo.thumbnailUrl': Value(dtype='string', id=None), 'imageInfo.size': Value(dtype='string', id=None), 'canonicalUrl': Value(dtype='string', id=None), 'externalInfo': Value(dtype='null', id=None), 'itemType': Value(dtype='null', id=None), 'category.path': Value(dtype='null', id=None), 'badges.flags': [{'id': Value(dtype='string', id=None), 'key': Value(dtype='string', id=None), 'text': Value(dtype='string', id=None), 'type': Value(dtype='string', id=None)}], 'badges.tags': [{'key': Value(dtype='string', id=None), 'text': Value(dtype='string', id=None), 'type': Value(dtype='string', id=None)}], 'classType': Value(dtype='string', id=None), 'averageRating': Value(dtype='float64', id=None), 'numberOfReviews': Value(dtype='int64', id=None), 'esrb': Value(dtype='string', id=None), 'mediaRating': Value(dtype='string', id=None), 'salesUnitType': Value(dtype='string', id=None), 'sellerId': Value(dtype='string', id=None), 'sellerName': Value(dtype='string', id=None), 'hasSellerBadge': Value(dtype='null', id=None), 'isEarlyAccessItem': Value(dtype='bool', id=None), 'earlyAccessEvent': Value(dtype='bool', id=None), 'annualEvent': Value(dtype='bool', id=None), 'availabilityStatusV2.display': Value(dtype='string', id=None), 'availabilityStatusV2.value': Value(dtype='string', id=None), 'groupMetaData.groupType': Value(dtype='null', id=None), 'groupMetaData.groupSubType': Value(dtype='null', id=None), 'groupMetaData.numberOfComponents': Value(dtype='int64', id=None), 'groupMetaData.groupComponents': Value(dtype='null', id=None), 'productLocation': [{'aisle': {'aisle': Value(dtype='int64', id=None), 'zone': Value(dtype='string', id=None)}, 'displayValue': Value(dtype='string', id=None)}], 'fulfillmentSpeed': Sequence(feature=Value(dtype='string', id=None), length=-1, id=None), 'offerId': Value(dtype='string', id=None), 'preOrder.isPreOrder': Value(dtype='bool', id=None), 'preOrder.preOrderMessage': Value(dtype='null', id=None), 'preOrder.preOrderStreetDateMessage': Value(dtype='null', id=None), 'pac': Value(dtype='null', id=None), 'priceInfo.priceRange': Value(dtype='null', id=None), 'priceInfo.currentPrice.price': Value(dtype='float64', id=None), 'priceInfo.currentPrice.priceString': Value(dtype='string', id=None), 'priceInfo.currentPrice.variantPriceString': Value(dtype='string', id=None), 'priceInfo.currentPrice.priceType': Value(dtype='null', id=None), 'priceInfo.currentPrice.currencyUnit': Value(dtype='null', id=None), 'priceInfo.currentPrice.priceDisplay': Value(dtype='string', id=None), 'priceInfo.comparisonPrice': Value(dtype='null', id=None), 'priceInfo.wasPrice': Value(dtype='null', id=None), 'priceInfo.unitPrice': Value(dtype='null', id=None), 'priceInfo.listPrice': Value(dtype='null', id=None), 'priceInfo.savingsAmount': Value(dtype='null', id=None), 'priceInfo.shipPrice.price': Value(dtype='float64', id=None), 'priceInfo.shipPrice.priceString': Value(dtype='string', id=None), 'priceInfo.shipPrice.variantPriceString': Value(dtype='null', id=None), 'priceInfo.shipPrice.priceType': Value(dtype='null', id=None), 'priceInfo.shipPrice.currencyUnit': Value(dtype='null', id=None), 'priceInfo.shipPrice.priceDisplay': Value(dtype='null', id=None), 'priceInfo.subscriptionPrice': Value(dtype='null', id=None), 'priceInfo.priceDisplayCodes.priceDisplayCondition': Value(dtype='string', id=None), 'priceInfo.priceDisplayCodes.finalCostByWeight': Value(dtype='bool', id=None), 'priceInfo.priceDisplayCodes.submapType': Value(dtype='null', id=None), 'priceInfo.wPlusEarlyAccessPrice': Value(dtype='null', id=None), 'variantCriteria': [{'id': Value(dtype='null', id=None), 'isVariantTypeSwatch': Value(dtype='bool', id=None), 'name': Value(dtype='string', id=None), 'type': Value(dtype='string', id=None), 'variantList': [{'availabilityStatus': Value(dtype='string', id=None), 'id': Value(dtype='null', id=None), 'images': Sequence(feature=Value(dtype='string', id=None), length=-1, id=None), 'name': Value(dtype='string', id=None), 'products': Sequence(feature=Value(dtype='string', id=None), length=-1, id=None), 'rank': Value(dtype='int64', id=None), 'selectedProduct': {'canonicalUrl': Value(dtype='string', id=None), 'usItemId': Value(dtype='string', id=None)}, 'swatchImageUrl': Value(dtype='string', id=None)}]}], 'snapEligible': Value(dtype='bool', id=None), 'fulfillmentBadge': Value(dtype='string', id=None), 'fulfillmentTitle': Value(dtype='string', id=None), 'fulfillmentType': Value(dtype='string', id=None), 'manufacturerName': Value(dtype='null', id=None), 'showAtc': Value(dtype='bool', id=None), 'sponsoredProduct': Value(dtype='null', id=None), 'showOptions': Value(dtype='bool', id=None), 'showBuyNow': Value(dtype='bool', id=None), 'quickShop': Value(dtype='string', id=None), 'rewards': Value(dtype='null', id=None), 'arExperiences.isARHome': Value(dtype='bool', id=None), 'arExperiences.isZeekit': Value(dtype='bool', id=None), 'eventAttributes.priceFlip': Value(dtype='bool', id=None), 'eventAttributes.specialBuy': Value(dtype='bool', id=None), 'subscription.subscriptionEligible': Value(dtype='bool', id=None), 'category_id': Value(dtype='string', id=None)}\n"
     ]
    }
   ],
   "source": [
    "print(data[\"train\"].features)"
   ]
  },
  {
   "cell_type": "code",
   "execution_count": 4,
   "id": "58db53b6",
   "metadata": {},
   "outputs": [],
   "source": [
    "# Filter out what we don't want to keep\n",
    "keep_columns = [\"id\", \"shortDescription\", \"category_id\"]\n",
    "columns_to_delete = set(data[\"train\"].column_names) - set(keep_columns)\n",
    "data[\"full\"] = data[\"train\"].remove_columns(list(columns_to_delete))\n",
    "del data[\"train\"]\n",
    "data.save_to_disk(\"id_shortDesc_category_20221102\")"
   ]
  },
  {
   "cell_type": "code",
   "execution_count": null,
   "id": "dffc98d3",
   "metadata": {},
   "outputs": [],
   "source": []
  }
 ],
 "metadata": {
  "kernelspec": {
   "display_name": "Python 3 (ipykernel)",
   "language": "python",
   "name": "python3"
  },
  "language_info": {
   "codemirror_mode": {
    "name": "ipython",
    "version": 3
   },
   "file_extension": ".py",
   "mimetype": "text/x-python",
   "name": "python",
   "nbconvert_exporter": "python",
   "pygments_lexer": "ipython3",
   "version": "3.10.6"
  }
 },
 "nbformat": 4,
 "nbformat_minor": 5
}
