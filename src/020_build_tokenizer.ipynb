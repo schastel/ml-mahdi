{
 "cells": [
  {
   "cell_type": "markdown",
   "id": "4803ca27",
   "metadata": {},
   "source": [
    "* We expect the input to be the data produced by 010_data_consolidation"
   ]
  },
  {
   "cell_type": "code",
   "execution_count": 1,
   "id": "a130f7c0",
   "metadata": {},
   "outputs": [],
   "source": [
    "# Load data"
   ]
  },
  {
   "cell_type": "code",
   "execution_count": 2,
   "id": "d48050c5",
   "metadata": {},
   "outputs": [],
   "source": [
    "input = \"prepared-data-20221013\""
   ]
  },
  {
   "cell_type": "code",
   "execution_count": 3,
   "id": "28ef35ae",
   "metadata": {},
   "outputs": [],
   "source": [
    "import datasets as ds"
   ]
  },
  {
   "cell_type": "code",
   "execution_count": 4,
   "id": "77b05385",
   "metadata": {},
   "outputs": [
    {
     "data": {
      "text/plain": [
       "Dataset({\n",
       "    features: ['__typename', 'id', 'usItemId', 'fitmentLabel', 'name', 'checkStoreAvailabilityATC', 'seeShippingEligibility', 'brand', 'type', 'shortDescription', 'weightIncrement', 'imageInfo.thumbnailUrl', 'imageInfo.size', 'canonicalUrl', 'externalInfo', 'itemType', 'category.path', 'badges.flags', 'badges.tags', 'classType', 'averageRating', 'numberOfReviews', 'esrb', 'mediaRating', 'salesUnitType', 'sellerId', 'sellerName', 'hasSellerBadge', 'isEarlyAccessItem', 'earlyAccessEvent', 'annualEvent', 'availabilityStatusV2.display', 'availabilityStatusV2.value', 'groupMetaData.groupType', 'groupMetaData.groupSubType', 'groupMetaData.numberOfComponents', 'groupMetaData.groupComponents', 'productLocation', 'fulfillmentSpeed', 'offerId', 'preOrder.isPreOrder', 'preOrder.preOrderMessage', 'preOrder.preOrderStreetDateMessage', 'pac', 'priceInfo.priceRange', 'priceInfo.currentPrice.price', 'priceInfo.currentPrice.priceString', 'priceInfo.currentPrice.variantPriceString', 'priceInfo.currentPrice.priceType', 'priceInfo.currentPrice.currencyUnit', 'priceInfo.currentPrice.priceDisplay', 'priceInfo.comparisonPrice', 'priceInfo.wasPrice', 'priceInfo.unitPrice', 'priceInfo.listPrice', 'priceInfo.savingsAmount', 'priceInfo.shipPrice.price', 'priceInfo.shipPrice.priceString', 'priceInfo.shipPrice.variantPriceString', 'priceInfo.shipPrice.priceType', 'priceInfo.shipPrice.currencyUnit', 'priceInfo.shipPrice.priceDisplay', 'priceInfo.subscriptionPrice', 'priceInfo.priceDisplayCodes.priceDisplayCondition', 'priceInfo.priceDisplayCodes.finalCostByWeight', 'priceInfo.priceDisplayCodes.submapType', 'priceInfo.wPlusEarlyAccessPrice', 'variantCriteria', 'snapEligible', 'fulfillmentBadge', 'fulfillmentTitle', 'fulfillmentType', 'manufacturerName', 'showAtc', 'sponsoredProduct', 'showOptions', 'showBuyNow', 'quickShop', 'rewards', 'arExperiences.isARHome', 'arExperiences.isZeekit', 'eventAttributes.priceFlip', 'eventAttributes.specialBuy', 'subscription.subscriptionEligible', 'category_id'],\n",
       "    num_rows: 50243\n",
       "})"
      ]
     },
     "execution_count": 4,
     "metadata": {},
     "output_type": "execute_result"
    }
   ],
   "source": [
    "dataset = ds.load_from_disk(input + \"/train\")\n",
    "dataset"
   ]
  },
  {
   "cell_type": "code",
   "execution_count": 5,
   "id": "772d251e",
   "metadata": {},
   "outputs": [
    {
     "data": {
      "text/plain": [
       "Dataset({\n",
       "    features: ['id', 'shortDescription', 'category_id'],\n",
       "    num_rows: 50243\n",
       "})"
      ]
     },
     "execution_count": 5,
     "metadata": {},
     "output_type": "execute_result"
    }
   ],
   "source": [
    "# Remove columns that we don't need\n",
    "keep_columns = [\"id\", \"shortDescription\", \"category_id\"]\n",
    "columns_to_delete = set(dataset.column_names) - set(keep_columns)\n",
    "dataset = dataset.remove_columns(list(columns_to_delete))\n",
    "dataset"
   ]
  },
  {
   "cell_type": "code",
   "execution_count": 6,
   "id": "24258c9f",
   "metadata": {},
   "outputs": [],
   "source": [
    "def get_training_corpus():\n",
    "    for i in range(0, len(dataset), 1000):\n",
    "        yield dataset[i : i + 1000][\"shortDescription\"]"
   ]
  },
  {
   "cell_type": "code",
   "execution_count": 7,
   "id": "48e2e966",
   "metadata": {},
   "outputs": [],
   "source": [
    "training_filename = \"training-data.txt\"\n",
    "with open(training_filename, \"w\", encoding=\"utf-8\") as f:\n",
    "    for i in range(len(dataset)):\n",
    "        f.write(\"\\n\".join(dataset[i][\"shortDescription\"].split(\";\")) + \"\\n\")"
   ]
  },
  {
   "cell_type": "markdown",
   "id": "302d4491",
   "metadata": {},
   "source": [
    "# Fine-tuning\n",
    "Let's use https://huggingface.co/course/chapter3/3?fw=pt"
   ]
  },
  {
   "cell_type": "code",
   "execution_count": 8,
   "id": "58724329",
   "metadata": {},
   "outputs": [],
   "source": [
    "!pip install transformers > /dev/null  # Shut up if there's no error"
   ]
  },
  {
   "cell_type": "code",
   "execution_count": 9,
   "id": "3af6ca0b",
   "metadata": {},
   "outputs": [],
   "source": [
    "from tokenizers import (\n",
    "    decoders,\n",
    "    models,\n",
    "    normalizers,\n",
    "    pre_tokenizers,\n",
    "    processors,\n",
    "    trainers,\n",
    "    Tokenizer,\n",
    ")\n",
    "tokenizer = Tokenizer(models.WordPiece(unk_token=\"[UNK]\"))"
   ]
  },
  {
   "cell_type": "code",
   "execution_count": 10,
   "id": "b6d12332",
   "metadata": {},
   "outputs": [],
   "source": [
    "tokenizer.normalizer = normalizers.BertNormalizer(lowercase=True)"
   ]
  },
  {
   "cell_type": "code",
   "execution_count": 11,
   "id": "7c70003c",
   "metadata": {},
   "outputs": [
    {
     "data": {
      "text/plain": [
       "'delicious caramel macchiato flavored brew convenient coffee pods for single pod brewers helps burn calories & supports increased fat burning'"
      ]
     },
     "execution_count": 11,
     "metadata": {},
     "output_type": "execute_result"
    }
   ],
   "source": [
    "tokenizer.normalizer = normalizers.Sequence(\n",
    "    [normalizers.NFD(), normalizers.Lowercase(), normalizers.StripAccents()]\n",
    ")\n",
    "tokenizer.normalizer.normalize_str(dataset[0][\"shortDescription\"])"
   ]
  },
  {
   "cell_type": "code",
   "execution_count": 12,
   "id": "869c5553",
   "metadata": {},
   "outputs": [
    {
     "data": {
      "text/plain": [
       "[('delicious', (0, 9)),\n",
       " ('caramel', (10, 17)),\n",
       " ('macchiato', (18, 27)),\n",
       " ('flavored', (28, 36)),\n",
       " ('brew', (37, 41)),\n",
       " ('convenient', (42, 52)),\n",
       " ('coffee', (53, 59)),\n",
       " ('pods', (60, 64)),\n",
       " ('for', (65, 68)),\n",
       " ('single', (69, 75)),\n",
       " ('pod', (76, 79)),\n",
       " ('brewers', (80, 87)),\n",
       " ('helps', (88, 93)),\n",
       " ('burn', (94, 98)),\n",
       " ('calories', (99, 107)),\n",
       " ('&', (108, 109)),\n",
       " ('supports', (110, 118)),\n",
       " ('increased', (119, 128)),\n",
       " ('fat', (129, 132)),\n",
       " ('burning', (133, 140))]"
      ]
     },
     "execution_count": 12,
     "metadata": {},
     "output_type": "execute_result"
    }
   ],
   "source": [
    "# Pre-tokenization\n",
    "tokenizer.pre_tokenizer = pre_tokenizers.BertPreTokenizer()\n",
    "tokenizer.pre_tokenizer.pre_tokenize_str(tokenizer.normalizer.normalize_str(dataset[0][\"shortDescription\"]))"
   ]
  },
  {
   "cell_type": "code",
   "execution_count": 13,
   "id": "29d85514",
   "metadata": {},
   "outputs": [],
   "source": [
    "special_tokens = [\"[UNK]\", \"[PAD]\", \"[CLS]\", \"[SEP]\", \"[MASK]\"]\n",
    "# There are 710000 (non-unique) words in training_filename. Let's assume that 10%=7000 of them are related \n",
    "# to the product.\n",
    "# Note: It could make sense to remove vocabulary related to sentiment (e.g. \"delicious\", \"convenient\")\n",
    "trainer = trainers.WordPieceTrainer(vocab_size=7000, special_tokens=special_tokens)"
   ]
  },
  {
   "cell_type": "code",
   "execution_count": 14,
   "id": "65b61963",
   "metadata": {},
   "outputs": [
    {
     "name": "stdout",
     "output_type": "stream",
     "text": [
      "\n",
      "\n",
      "\n"
     ]
    }
   ],
   "source": [
    "tokenizer.train_from_iterator(get_training_corpus(), trainer=trainer)"
   ]
  },
  {
   "cell_type": "code",
   "execution_count": 15,
   "id": "378e5920",
   "metadata": {},
   "outputs": [
    {
     "name": "stdout",
     "output_type": "stream",
     "text": [
      "\n",
      "\n",
      "\n"
     ]
    }
   ],
   "source": [
    "tokenizer.model = models.WordPiece(unk_token=\"[UNK]\")\n",
    "tokenizer.train([training_filename], trainer=trainer)"
   ]
  },
  {
   "cell_type": "code",
   "execution_count": 16,
   "id": "acb85513",
   "metadata": {},
   "outputs": [],
   "source": [
    "tokenizer.save(\"tokenizer-dataset-20201013\")"
   ]
  },
  {
   "cell_type": "code",
   "execution_count": 17,
   "id": "21a361d7",
   "metadata": {},
   "outputs": [
    {
     "name": "stdout",
     "output_type": "stream",
     "text": [
      "Encoding(num_tokens=21, attributes=[ids, type_ids, tokens, offsets, attention_mask, special_tokens_mask, overflowing])\n",
      "['delicious', 'caramel', 'macchiato', 'flavored', 'brew', 'convenient', 'coffee', 'pods', 'for', 'single', 'pod', 'brewers', 'helps', 'burn', 'calories', '&', 'supports', 'increase', '##d', 'fat', 'burning']\n",
      "[238, 715, 3365, 450, 513, 651, 174, 990, 147, 792, 843, 1809, 2105, 5453, 302, 10, 2687, 6843, 91, 338, 6539]\n"
     ]
    }
   ],
   "source": [
    "encoded = tokenizer.encode(dataset[0][\"shortDescription\"])\n",
    "print(encoded)\n",
    "print(encoded.tokens)\n",
    "print(encoded.ids)"
   ]
  },
  {
   "cell_type": "code",
   "execution_count": 18,
   "id": "0cfe8b7e",
   "metadata": {},
   "outputs": [
    {
     "name": "stdout",
     "output_type": "stream",
     "text": [
      "[1, 1, 1, 1, 1, 1, 1, 1, 1, 1, 1, 1, 1, 1, 1, 1, 1, 1, 1, 1, 1]\n"
     ]
    }
   ],
   "source": [
    "print(encoded.attention_mask)"
   ]
  },
  {
   "cell_type": "code",
   "execution_count": 19,
   "id": "7ff092d0",
   "metadata": {},
   "outputs": [
    {
     "name": "stdout",
     "output_type": "stream",
     "text": [
      "[]\n"
     ]
    }
   ],
   "source": [
    "print(encoded.overflowing)"
   ]
  }
 ],
 "metadata": {
  "kernelspec": {
   "display_name": "Python 3 (ipykernel)",
   "language": "python",
   "name": "python3"
  },
  "language_info": {
   "codemirror_mode": {
    "name": "ipython",
    "version": 3
   },
   "file_extension": ".py",
   "mimetype": "text/x-python",
   "name": "python",
   "nbconvert_exporter": "python",
   "pygments_lexer": "ipython3",
   "version": "3.10.6"
  }
 },
 "nbformat": 4,
 "nbformat_minor": 5
}
